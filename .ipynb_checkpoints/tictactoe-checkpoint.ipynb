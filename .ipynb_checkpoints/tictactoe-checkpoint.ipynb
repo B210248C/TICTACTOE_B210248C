{
 "cells": [
  {
   "cell_type": "code",
   "execution_count": null,
   "id": "a3a2f249-5c61-4858-ba8b-9c5c05fb2f57",
   "metadata": {},
   "outputs": [
    {
     "name": "stdout",
     "output_type": "stream",
     "text": [
      "\n",
      "  |   |  \n",
      "--+---+---\n",
      "  |   |  \n",
      "--+---+---\n",
      "  |   |  \n",
      "\n"
     ]
    }
   ],
   "source": [
    "from ttt_board import TicTacToe\n",
    "\n",
    "def main():\n",
    "    game = TicTacToe()\n",
    "    game.print_ttt_board()\n",
    "    game.x_turn()  # Start the game with X's turn\n",
    "\n",
    "if __name__ == \"__main__\":\n",
    "    main()"
   ]
  }
 ],
 "metadata": {
  "kernelspec": {
   "display_name": "Python 3 (ipykernel)",
   "language": "python",
   "name": "python3"
  },
  "language_info": {
   "codemirror_mode": {
    "name": "ipython",
    "version": 3
   },
   "file_extension": ".py",
   "mimetype": "text/x-python",
   "name": "python",
   "nbconvert_exporter": "python",
   "pygments_lexer": "ipython3",
   "version": "3.10.9"
  }
 },
 "nbformat": 4,
 "nbformat_minor": 5
}
